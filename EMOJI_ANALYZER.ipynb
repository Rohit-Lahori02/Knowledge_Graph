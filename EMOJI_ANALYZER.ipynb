{
 "cells": [
  {
   "cell_type": "code",
   "execution_count": 1,
   "id": "1048b4de",
   "metadata": {},
   "outputs": [
    {
     "name": "stderr",
     "output_type": "stream",
     "text": [
      "C:\\Users\\rohit\\anaconda3\\lib\\site-packages\\scipy\\__init__.py:146: UserWarning: A NumPy version >=1.16.5 and <1.23.0 is required for this version of SciPy (detected version 1.25.2\n",
      "  warnings.warn(f\"A NumPy version >={np_minversion} and <{np_maxversion}\"\n"
     ]
    }
   ],
   "source": [
    "import pandas as pd\n",
    "import numpy as np\n",
    "import nltk\n",
    "import transformers\n",
    "from transformers import AutoTokenizer\n",
    "import emoji\n",
    "from sklearn.metrics import accuracy_score, precision_score, recall_score\n",
    "from textblob import TextBlob"
   ]
  },
  {
   "cell_type": "code",
   "execution_count": 2,
   "id": "ab29ae4a",
   "metadata": {},
   "outputs": [
    {
     "name": "stdout",
     "output_type": "stream",
     "text": [
      "Collecting emoji\n",
      "  Downloading emoji-2.8.0-py2.py3-none-any.whl (358 kB)\n",
      "Installing collected packages: emoji\n",
      "Successfully installed emoji-2.8.0\n",
      "Note: you may need to restart the kernel to use updated packages.\n"
     ]
    }
   ],
   "source": [
    "pip install emoji"
   ]
  },
  {
   "cell_type": "code",
   "execution_count": 7,
   "id": "9896785d",
   "metadata": {},
   "outputs": [
    {
     "name": "stdout",
     "output_type": "stream",
     "text": [
      "Collecting textblob\n",
      "  Downloading textblob-0.17.1-py2.py3-none-any.whl (636 kB)\n",
      "Requirement already satisfied: nltk>=3.1 in c:\\users\\rohit\\anaconda3\\lib\\site-packages (from textblob) (3.7)\n",
      "Requirement already satisfied: click in c:\\users\\rohit\\anaconda3\\lib\\site-packages (from nltk>=3.1->textblob) (8.0.4)\n",
      "Requirement already satisfied: regex>=2021.8.3 in c:\\users\\rohit\\anaconda3\\lib\\site-packages (from nltk>=3.1->textblob) (2022.3.15)\n",
      "Requirement already satisfied: tqdm in c:\\users\\rohit\\anaconda3\\lib\\site-packages (from nltk>=3.1->textblob) (4.64.0)\n",
      "Requirement already satisfied: joblib in c:\\users\\rohit\\anaconda3\\lib\\site-packages (from nltk>=3.1->textblob) (1.1.0)\n",
      "Requirement already satisfied: colorama in c:\\users\\rohit\\anaconda3\\lib\\site-packages (from click->nltk>=3.1->textblob) (0.4.6)\n",
      "Installing collected packages: textblob\n",
      "Successfully installed textblob-0.17.1\n",
      "Note: you may need to restart the kernel to use updated packages.\n"
     ]
    }
   ],
   "source": [
    "pip install textblob"
   ]
  },
  {
   "cell_type": "code",
   "execution_count": 2,
   "id": "6cc0c48b",
   "metadata": {},
   "outputs": [],
   "source": [
    "tokenizer = AutoTokenizer.from_pretrained('bert-base-uncased')"
   ]
  },
  {
   "cell_type": "code",
   "execution_count": 3,
   "id": "27cdd5e8",
   "metadata": {},
   "outputs": [
    {
     "name": "stdout",
     "output_type": "stream",
     "text": [
      "0.9980984576378619 of the emojis are not identified by this tokenizer.\n"
     ]
    }
   ],
   "source": [
    "emoji_list = list(emoji.EMOJI_DATA.keys())\n",
    "cnt = 0\n",
    "for e in emoji_list:\n",
    "    tokenized = tokenizer.decode(tokenizer.encode(e)).strip(\"</s>\").strip()\n",
    "    if e not in tokenized:\n",
    "        cnt += 1\n",
    "print(f\"{cnt/len(emoji_list)} of the emojis are not identified by this tokenizer.\")"
   ]
  },
  {
   "cell_type": "code",
   "execution_count": 4,
   "id": "9f6a93ee",
   "metadata": {},
   "outputs": [],
   "source": [
    "def emoji2description(text):\n",
    "  return emoji.replace_emoji(text, replace=lambda chars, data_dict: ' '.join(data_dict['en'].split('_')).strip(':'))"
   ]
  },
  {
   "cell_type": "code",
   "execution_count": 5,
   "id": "f620b648",
   "metadata": {},
   "outputs": [],
   "source": [
    "emoji_sentiment_dict = {\n",
    "    '😀': 'positive',\n",
    "    '😃': 'positive',\n",
    "    '😄': 'positive',\n",
    "    '😁': 'positive',\n",
    "    '😆': 'positive',\n",
    "    '😅': 'positive',\n",
    "    '😂': 'positive',\n",
    "    '🤣': 'positive',\n",
    "    '😊': 'positive',\n",
    "    '😇': 'positive',\n",
    "    '🙂': 'positive',\n",
    "    '🙃': 'positive',\n",
    "    '😉': 'positive',\n",
    "    '😌': 'positive',\n",
    "    '😍': 'positive',\n",
    "    '😘': 'positive',\n",
    "    '😗': 'positive',\n",
    "    '😙': 'positive',\n",
    "    '😚': 'positive',\n",
    "    '😋': 'positive',\n",
    "    '😛': 'positive',\n",
    "    '😜': 'positive',\n",
    "    '😝': 'positive',\n",
    "    '😎': 'positive',\n",
    "    '😏': 'positive',\n",
    "    '😐': 'neutral',\n",
    "    '😑': 'neutral',\n",
    "    '😒': 'negative',\n",
    "    '😓': 'negative',\n",
    "    '😔': 'negative',\n",
    "    '😕': 'negative',\n",
    "    '😖': 'negative',\n",
    "    '😞': 'negative',\n",
    "    '😟': 'negative',\n",
    "    '😠': 'negative',\n",
    "    '😡': 'negative',\n",
    "    '🤬': 'negative',\n",
    "    '😢': 'negative',\n",
    "    '😣': 'negative',\n",
    "    '😤': 'negative',\n",
    "    '😥': 'negative',\n",
    "    '😦': 'negative',\n",
    "    '😧': 'negative',\n",
    "    '😨': 'negative',\n",
    "    '😩': 'negative',\n",
    "    '😪': 'negative',\n",
    "    '😫': 'negative',\n",
    "    '😬': 'negative',\n",
    "    '😭': 'negative',\n",
    "    '😮': 'neutral',\n",
    "    '😯': 'neutral',\n",
    "    '😰': 'negative',\n",
    "    '😱': 'negative',\n",
    "    '😲': 'negative',\n",
    "    '😳': 'neutral',\n",
    "    '😴': 'neutral',\n",
    "    '😵': 'negative',\n",
    "    '😶': 'neutral',\n",
    "    '😷': 'negative',\n",
    "    '🤒': 'negative',\n",
    "    '🤕': 'negative',\n",
    "    '🤢': 'negative',\n",
    "    '🤮': 'negative',\n",
    "    '🤧': 'negative',\n",
    "    '🥵': 'negative',\n",
    "    '🥶': 'negative',\n",
    "    '🥴': 'negative',\n",
    "    '😵‍💫': 'negative',  # Example of a complex emoji\n",
    "\n",
    "    # Add more emojis and sentiments as needed\n",
    "}"
   ]
  },
  {
   "cell_type": "code",
   "execution_count": 20,
   "id": "5fc1cf32",
   "metadata": {},
   "outputs": [
    {
     "name": "stdout",
     "output_type": "stream",
     "text": [
      "{'Sentiment': 'Negative', 'Subjectivity': 0.6}\n"
     ]
    }
   ],
   "source": [
    "def analyzesent(text):\n",
    "    text_2 = emoji2description(text)\n",
    "    #print(text_2)\n",
    "    p_1 = TextBlob(text_2).sentiment.polarity\n",
    "    s_1 = TextBlob(text_2).sentiment.subjectivity\n",
    "    if p_1 > 0:\n",
    "        si = \"Positive\"\n",
    "    elif p_1 < 0:\n",
    "        si = \"Negative\"\n",
    "    else:\n",
    "        si = \"Neutral\"\n",
    "    \n",
    "    return {\n",
    "        \"Sentiment\": si,\n",
    "        \"Subjectivity\": s_1\n",
    "    }\n",
    "text_1=\"I love the movie so much 😭😭😭\"\n",
    "sentiment_result=analyzesent(text_1)\n",
    "print(sentiment_result)\n",
    "#Polarity determines the sentiment of the text. Its values lie in [-1,1] where -1 denotes a highly negative sentiment and \n",
    "#1 denotes a highly positive sentiment. Subjectivity determines whether a text input is factual information or a personal \n",
    "#opinion. Its value lies between [0,1] where a value closer to 0 denotes a piece of factual information and a value closer \n",
    "#to 1 denotes a personal opinion.\n",
    "    "
   ]
  },
  {
   "cell_type": "code",
   "execution_count": 16,
   "id": "fcb1fd34",
   "metadata": {},
   "outputs": [
    {
     "name": "stdout",
     "output_type": "stream",
     "text": [
      "Accuracy: 0.8571428571428571\n",
      "Precision: 0.8928571428571429\n",
      "Recall: 0.8571428571428571\n"
     ]
    }
   ],
   "source": [
    "labeled_dataset = [\n",
    "    {\"text\": \"I love this product! It's amazing. 😍\", \"true_sentiment\": \"Positive\"},\n",
    "    {\"text\": \"The service was terrible. I'm very disappointed. 😡\", \"true_sentiment\": \"Negative\"},\n",
    "    {\"text\": \"This is an okay movie, not great but not terrible. 😐\", \"true_sentiment\": \"Neutral\"},\n",
    "    {\"text\": \"The food was excellent, and the staff was friendly. 😃\", \"true_sentiment\": \"Positive\"},\n",
    "    {\"text\": \"I'm indifferent towards this book. 😑\", \"true_sentiment\": \"Neutral\"},\n",
    "    {\"text\": \"The weather today is awful. ☔\", \"true_sentiment\": \"Negative\"},\n",
    "    {\"text\": \"I had a fantastic day! 🎉\", \"true_sentiment\": \"Positive\"},\n",
    "    # Add more samples here...\n",
    "]\n",
    "predicted_sentiments = []  # To store the predicted sentiments\n",
    "true_sentiments = []  # To store the true sentiments\n",
    "for item in labeled_dataset:\n",
    "    text = item[\"text\"]\n",
    "    true_sentiment = item[\"true_sentiment\"]\n",
    "    sentiment_result = analyzesent(text)\n",
    "    predicted_sentiments.append(sentiment_result[\"Sentiment\"])\n",
    "    true_sentiments.append(true_sentiment)\n",
    "    \n",
    "    \n",
    "\n",
    "#Calculate metrics\n",
    "accuracy = accuracy_score(true_sentiments, predicted_sentiments)\n",
    "precision = precision_score(true_sentiments, predicted_sentiments, average='weighted')\n",
    "recall = recall_score(true_sentiments, predicted_sentiments, average='weighted')\n",
    "\n",
    "print(f\"Accuracy: {accuracy}\")\n",
    "print(f\"Precision: {precision}\")\n",
    "print(f\"Recall: {recall}\")\n"
   ]
  },
  {
   "cell_type": "code",
   "execution_count": null,
   "id": "edaa4157",
   "metadata": {},
   "outputs": [],
   "source": []
  }
 ],
 "metadata": {
  "kernelspec": {
   "display_name": "Python 3 (ipykernel)",
   "language": "python",
   "name": "python3"
  },
  "language_info": {
   "codemirror_mode": {
    "name": "ipython",
    "version": 3
   },
   "file_extension": ".py",
   "mimetype": "text/x-python",
   "name": "python",
   "nbconvert_exporter": "python",
   "pygments_lexer": "ipython3",
   "version": "3.9.12"
  }
 },
 "nbformat": 4,
 "nbformat_minor": 5
}
